{
 "cells": [
  {
   "cell_type": "markdown",
   "id": "7d40fea5",
   "metadata": {},
   "source": [
    "## 📘 Game Overview\n",
    "\n",
    "This Twine-based game, titled **Advanced Dimensional Analysis**, builds upon foundational unit conversion concepts by introducing more complex scenarios. \n",
    "Learners must reason through multi-step problems involving squared and cubed units, even when only given simple linear conversions.\n",
    "\n",
    "The game is set in a new sci-fi universe, distinct from the Galactic Referee series. Players are cast as chrononaut cadets aboard a time-traveling science vessel, \n",
    "where they must resolve dimensional distortions across various timelines using advanced conversion logic."
   ]
  },
  {
   "cell_type": "markdown",
   "id": "33fee86c",
   "metadata": {},
   "source": [
    "## 🎯 Learning Objectives\n",
    "\n",
    "- Apply dimensional analysis to problems involving area and volume units (e.g., cm², in³)\n",
    "- Square or cube given unit conversion factors appropriately\n",
    "- Set up and cancel units in chained conversions with exponent rules\n",
    "- Interpret unit expressions within applied problem contexts"
   ]
  },
  {
   "cell_type": "markdown",
   "id": "2e3b5641",
   "metadata": {},
   "source": [
    "## 🛠 Mechanics & Features\n",
    "\n",
    "- **Narrative-driven interface**: Learners are immersed in a time science scenario requiring analytical thinking.\n",
    "- **Exponent-based conversion**: Promotes a deeper understanding of when and how to square or cube both numerators and denominators.\n",
    "- **Drag-and-drop setup**: Allows learners to build out the correct multi-step chain using exponent-aware conversion tiles.\n",
    "- **Built-in scaffolding**: Optional hints and guidance are embedded to reinforce the exponent rules of dimensional analysis."
   ]
  },
  {
   "cell_type": "markdown",
   "id": "45dcdc6d",
   "metadata": {},
   "source": [
    "## 🧩 Example Screenshots & Flow\n",
    "\n",
    "The following section includes annotated screenshots from the `Advanced_DA_Screenshots` folder, demonstrating how the game escalates complexity and reinforces learning through guided interaction."
   ]
  },
  {
   "cell_type": "markdown",
   "id": "5349f2f4",
   "metadata": {},
   "source": [
    "![ada01.png](./Advanced_DA_Screenshots/ada01.png)"
   ]
  },
  {
   "cell_type": "markdown",
   "id": "c675a28b",
   "metadata": {},
   "source": [
    "![ada03.png](./Advanced_DA_Screenshots/ada03.png)"
   ]
  },
  {
   "cell_type": "markdown",
   "id": "b6dd2062",
   "metadata": {},
   "source": [
    "![ada04.png](./Advanced_DA_Screenshots/ada04.png)"
   ]
  },
  {
   "cell_type": "markdown",
   "id": "cf085c4c",
   "metadata": {},
   "source": [
    "![ada05.png](./Advanced_DA_Screenshots/ada05.png)"
   ]
  },
  {
   "cell_type": "markdown",
   "id": "5a9e583e",
   "metadata": {},
   "source": [
    "![ada06.png](./Advanced_DA_Screenshots/ada06.png)"
   ]
  }
 ],
 "metadata": {
  "kernelspec": {
   "display_name": "Python 3 (ipykernel)",
   "language": "python",
   "name": "python3"
  },
  "language_info": {
   "codemirror_mode": {
    "name": "ipython",
    "version": 3
   },
   "file_extension": ".py",
   "mimetype": "text/x-python",
   "name": "python",
   "nbconvert_exporter": "python",
   "pygments_lexer": "ipython3",
   "version": "3.13.4"
  }
 },
 "nbformat": 4,
 "nbformat_minor": 5
}
